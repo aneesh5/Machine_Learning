{
 "cells": [
  {
   "cell_type": "code",
   "execution_count": 1,
   "metadata": {},
   "outputs": [],
   "source": [
    "import numpy as np\n",
    "import pandas as pd"
   ]
  },
  {
   "cell_type": "code",
   "execution_count": 2,
   "metadata": {},
   "outputs": [
    {
     "data": {
      "text/html": [
       "<div>\n",
       "<style scoped>\n",
       "    .dataframe tbody tr th:only-of-type {\n",
       "        vertical-align: middle;\n",
       "    }\n",
       "\n",
       "    .dataframe tbody tr th {\n",
       "        vertical-align: top;\n",
       "    }\n",
       "\n",
       "    .dataframe thead th {\n",
       "        text-align: right;\n",
       "    }\n",
       "</style>\n",
       "<table border=\"1\" class=\"dataframe\">\n",
       "  <thead>\n",
       "    <tr style=\"text-align: right;\">\n",
       "      <th></th>\n",
       "      <th>Unnamed: 0</th>\n",
       "      <th>District</th>\n",
       "      <th>Year</th>\n",
       "      <th>Season</th>\n",
       "      <th>Crop</th>\n",
       "      <th>Area</th>\n",
       "      <th>Production</th>\n",
       "      <th>Productivity</th>\n",
       "      <th>CropLabel</th>\n",
       "    </tr>\n",
       "  </thead>\n",
       "  <tbody>\n",
       "    <tr>\n",
       "      <th>0</th>\n",
       "      <td>0</td>\n",
       "      <td>AMRAVATI</td>\n",
       "      <td>2001</td>\n",
       "      <td>Kharif</td>\n",
       "      <td>Bajra</td>\n",
       "      <td>1000</td>\n",
       "      <td>400</td>\n",
       "      <td>0.400000</td>\n",
       "      <td>1</td>\n",
       "    </tr>\n",
       "    <tr>\n",
       "      <th>1</th>\n",
       "      <td>5</td>\n",
       "      <td>AMRAVATI</td>\n",
       "      <td>2002</td>\n",
       "      <td>Kharif</td>\n",
       "      <td>Bajra</td>\n",
       "      <td>800</td>\n",
       "      <td>500</td>\n",
       "      <td>0.625000</td>\n",
       "      <td>2</td>\n",
       "    </tr>\n",
       "    <tr>\n",
       "      <th>2</th>\n",
       "      <td>10</td>\n",
       "      <td>AMRAVATI</td>\n",
       "      <td>2003</td>\n",
       "      <td>Kharif</td>\n",
       "      <td>Bajra</td>\n",
       "      <td>800</td>\n",
       "      <td>400</td>\n",
       "      <td>0.500000</td>\n",
       "      <td>1</td>\n",
       "    </tr>\n",
       "    <tr>\n",
       "      <th>3</th>\n",
       "      <td>15</td>\n",
       "      <td>AMRAVATI</td>\n",
       "      <td>2004</td>\n",
       "      <td>Kharif</td>\n",
       "      <td>Bajra</td>\n",
       "      <td>700</td>\n",
       "      <td>400</td>\n",
       "      <td>0.571429</td>\n",
       "      <td>2</td>\n",
       "    </tr>\n",
       "    <tr>\n",
       "      <th>4</th>\n",
       "      <td>19</td>\n",
       "      <td>AMRAVATI</td>\n",
       "      <td>2005</td>\n",
       "      <td>Kharif</td>\n",
       "      <td>Bajra</td>\n",
       "      <td>300</td>\n",
       "      <td>100</td>\n",
       "      <td>0.333333</td>\n",
       "      <td>1</td>\n",
       "    </tr>\n",
       "  </tbody>\n",
       "</table>\n",
       "</div>"
      ],
      "text/plain": [
       "   Unnamed: 0  District  Year       Season   Crop  Area  Production  \\\n",
       "0           0  AMRAVATI  2001  Kharif       Bajra  1000         400   \n",
       "1           5  AMRAVATI  2002  Kharif       Bajra   800         500   \n",
       "2          10  AMRAVATI  2003  Kharif       Bajra   800         400   \n",
       "3          15  AMRAVATI  2004  Kharif       Bajra   700         400   \n",
       "4          19  AMRAVATI  2005  Kharif       Bajra   300         100   \n",
       "\n",
       "   Productivity  CropLabel  \n",
       "0      0.400000          1  \n",
       "1      0.625000          2  \n",
       "2      0.500000          1  \n",
       "3      0.571429          2  \n",
       "4      0.333333          1  "
      ]
     },
     "execution_count": 2,
     "metadata": {},
     "output_type": "execute_result"
    }
   ],
   "source": [
    "from sklearn.linear_model import LinearRegression\n",
    "crop_data = pd.read_csv('CropLabels.csv')\n",
    "crop_data.head()\n"
   ]
  },
  {
   "cell_type": "code",
   "execution_count": 3,
   "metadata": {},
   "outputs": [
    {
     "data": {
      "text/html": [
       "<div>\n",
       "<style scoped>\n",
       "    .dataframe tbody tr th:only-of-type {\n",
       "        vertical-align: middle;\n",
       "    }\n",
       "\n",
       "    .dataframe tbody tr th {\n",
       "        vertical-align: top;\n",
       "    }\n",
       "\n",
       "    .dataframe thead th {\n",
       "        text-align: right;\n",
       "    }\n",
       "</style>\n",
       "<table border=\"1\" class=\"dataframe\">\n",
       "  <thead>\n",
       "    <tr style=\"text-align: right;\">\n",
       "      <th></th>\n",
       "      <th>Unnamed: 0</th>\n",
       "      <th>Year</th>\n",
       "      <th>Area</th>\n",
       "      <th>Production</th>\n",
       "      <th>Productivity</th>\n",
       "      <th>CropLabel</th>\n",
       "    </tr>\n",
       "  </thead>\n",
       "  <tbody>\n",
       "    <tr>\n",
       "      <th>count</th>\n",
       "      <td>95.000000</td>\n",
       "      <td>95.000000</td>\n",
       "      <td>95.000000</td>\n",
       "      <td>95.000000</td>\n",
       "      <td>95.000000</td>\n",
       "      <td>95.000000</td>\n",
       "    </tr>\n",
       "    <tr>\n",
       "      <th>mean</th>\n",
       "      <td>258.052632</td>\n",
       "      <td>2007.305263</td>\n",
       "      <td>59036.589474</td>\n",
       "      <td>47552.273684</td>\n",
       "      <td>0.667420</td>\n",
       "      <td>1.800000</td>\n",
       "    </tr>\n",
       "    <tr>\n",
       "      <th>std</th>\n",
       "      <td>156.570925</td>\n",
       "      <td>3.960103</td>\n",
       "      <td>84620.676491</td>\n",
       "      <td>68640.827831</td>\n",
       "      <td>0.264058</td>\n",
       "      <td>0.819964</td>\n",
       "    </tr>\n",
       "    <tr>\n",
       "      <th>min</th>\n",
       "      <td>0.000000</td>\n",
       "      <td>2001.000000</td>\n",
       "      <td>2.000000</td>\n",
       "      <td>1.000000</td>\n",
       "      <td>0.031746</td>\n",
       "      <td>0.000000</td>\n",
       "    </tr>\n",
       "    <tr>\n",
       "      <th>25%</th>\n",
       "      <td>114.500000</td>\n",
       "      <td>2004.000000</td>\n",
       "      <td>1650.000000</td>\n",
       "      <td>891.000000</td>\n",
       "      <td>0.472685</td>\n",
       "      <td>1.000000</td>\n",
       "    </tr>\n",
       "    <tr>\n",
       "      <th>50%</th>\n",
       "      <td>280.000000</td>\n",
       "      <td>2007.000000</td>\n",
       "      <td>9700.000000</td>\n",
       "      <td>3900.000000</td>\n",
       "      <td>0.630721</td>\n",
       "      <td>2.000000</td>\n",
       "    </tr>\n",
       "    <tr>\n",
       "      <th>75%</th>\n",
       "      <td>395.500000</td>\n",
       "      <td>2011.000000</td>\n",
       "      <td>115000.000000</td>\n",
       "      <td>86600.000000</td>\n",
       "      <td>0.806629</td>\n",
       "      <td>2.000000</td>\n",
       "    </tr>\n",
       "    <tr>\n",
       "      <th>max</th>\n",
       "      <td>504.000000</td>\n",
       "      <td>2014.000000</td>\n",
       "      <td>324200.000000</td>\n",
       "      <td>258500.000000</td>\n",
       "      <td>1.408686</td>\n",
       "      <td>4.000000</td>\n",
       "    </tr>\n",
       "  </tbody>\n",
       "</table>\n",
       "</div>"
      ],
      "text/plain": [
       "       Unnamed: 0         Year           Area     Production  Productivity  \\\n",
       "count   95.000000    95.000000      95.000000      95.000000     95.000000   \n",
       "mean   258.052632  2007.305263   59036.589474   47552.273684      0.667420   \n",
       "std    156.570925     3.960103   84620.676491   68640.827831      0.264058   \n",
       "min      0.000000  2001.000000       2.000000       1.000000      0.031746   \n",
       "25%    114.500000  2004.000000    1650.000000     891.000000      0.472685   \n",
       "50%    280.000000  2007.000000    9700.000000    3900.000000      0.630721   \n",
       "75%    395.500000  2011.000000  115000.000000   86600.000000      0.806629   \n",
       "max    504.000000  2014.000000  324200.000000  258500.000000      1.408686   \n",
       "\n",
       "       CropLabel  \n",
       "count  95.000000  \n",
       "mean    1.800000  \n",
       "std     0.819964  \n",
       "min     0.000000  \n",
       "25%     1.000000  \n",
       "50%     2.000000  \n",
       "75%     2.000000  \n",
       "max     4.000000  "
      ]
     },
     "execution_count": 3,
     "metadata": {},
     "output_type": "execute_result"
    }
   ],
   "source": [
    "crop_data.describe()"
   ]
  },
  {
   "cell_type": "code",
   "execution_count": 4,
   "metadata": {},
   "outputs": [
    {
     "data": {
      "text/plain": [
       "Unnamed: 0      0\n",
       "District        0\n",
       "Year            0\n",
       "Season          0\n",
       "Crop            0\n",
       "Area            0\n",
       "Production      0\n",
       "Productivity    0\n",
       "CropLabel       0\n",
       "dtype: int64"
      ]
     },
     "execution_count": 4,
     "metadata": {},
     "output_type": "execute_result"
    }
   ],
   "source": [
    "crop_data.isnull().sum()"
   ]
  },
  {
   "cell_type": "code",
   "execution_count": 5,
   "metadata": {},
   "outputs": [
    {
     "data": {
      "text/plain": [
       "array([[1.00000000e+03, 4.00000000e-01],\n",
       "       [8.00000000e+02, 6.25000000e-01],\n",
       "       [8.00000000e+02, 5.00000000e-01],\n",
       "       [7.00000000e+02, 5.71428571e-01],\n",
       "       [3.00000000e+02, 3.33333333e-01],\n",
       "       [2.00000000e+02, 5.00000000e-01],\n",
       "       [2.00000000e+00, 5.00000000e-01],\n",
       "       [3.00000000e+02, 6.66666667e-01],\n",
       "       [2.00000000e+02, 1.00000000e+00],\n",
       "       [3.00000000e+02, 6.66666667e-01],\n",
       "       [3.00000000e+02, 6.66666667e-01],\n",
       "       [3.00000000e+02, 6.66666667e-01],\n",
       "       [1.37400000e+05, 6.31004367e-01],\n",
       "       [1.49900000e+05, 8.74583055e-01],\n",
       "       [1.28700000e+05, 8.56254856e-01],\n",
       "       [1.28900000e+05, 8.37083010e-01],\n",
       "       [1.31400000e+05, 1.14155251e+00],\n",
       "       [1.23100000e+05, 1.13241267e+00],\n",
       "       [1.11100000e+03, 1.22592259e+00],\n",
       "       [1.09100000e+05, 9.48670944e-01],\n",
       "       [1.22400000e+05, 9.95098039e-01],\n",
       "       [8.98000000e+04, 1.40868597e+00],\n",
       "       [6.85000000e+04, 1.28175182e+00],\n",
       "       [6.85000000e+04, 6.49635036e-01],\n",
       "       [3.10000000e+04, 1.22580645e+00],\n",
       "       [4.53000000e+04, 5.34216336e-01],\n",
       "       [9.50000000e+03, 3.26315789e-01],\n",
       "       [9.30000000e+03, 6.12903226e-01],\n",
       "       [8.10000000e+03, 4.44444444e-01],\n",
       "       [7.40000000e+03, 5.27027027e-01],\n",
       "       [6.00000000e+03, 5.50000000e-01],\n",
       "       [5.90000000e+03, 4.06779661e-01],\n",
       "       [5.60000000e+01, 5.53571429e-01],\n",
       "       [5.00000000e+03, 4.60000000e-01],\n",
       "       [4.00000000e+03, 3.75000000e-01],\n",
       "       [4.30000000e+03, 5.11627907e-01],\n",
       "       [3.80000000e+03, 5.52631579e-01],\n",
       "       [3.80000000e+03, 7.10526316e-01],\n",
       "       [2.70000000e+03, 4.81481481e-01],\n",
       "       [2.50000000e+03, 1.60000000e-01],\n",
       "       [3.24200000e+05, 5.54904380e-01],\n",
       "       [3.20300000e+05, 8.07055885e-01],\n",
       "       [3.16800000e+05, 6.20896465e-01],\n",
       "       [3.15200000e+05, 7.75697970e-01],\n",
       "       [2.82900000e+05, 7.63167197e-01],\n",
       "       [2.58500000e+05, 7.24564797e-01],\n",
       "       [2.15800000e+03, 1.10982391e+00],\n",
       "       [1.97900000e+05, 9.65133906e-01],\n",
       "       [1.71900000e+05, 7.53344968e-01],\n",
       "       [1.71200000e+05, 1.26343458e+00],\n",
       "       [1.65900000e+05, 1.02531646e+00],\n",
       "       [1.54800000e+05, 8.06201550e-01],\n",
       "       [1.49600000e+05, 1.11965241e+00],\n",
       "       [1.52700000e+05, 7.13163065e-01],\n",
       "       [1.13200000e+05, 7.56183746e-01],\n",
       "       [1.23900000e+05, 6.98143664e-01],\n",
       "       [9.70000000e+04, 6.96907216e-01],\n",
       "       [1.16800000e+05, 7.26027397e-01],\n",
       "       [1.25300000e+05, 7.21468476e-01],\n",
       "       [1.28900000e+05, 6.30721490e-01],\n",
       "       [1.12700000e+03, 8.71339840e-01],\n",
       "       [3.45000000e+04, 7.82608696e-01],\n",
       "       [4.60000000e+04, 7.36956522e-01],\n",
       "       [4.86000000e+04, 8.84773663e-01],\n",
       "       [5.07000000e+04, 8.02761341e-01],\n",
       "       [3.60000000e+04, 4.63888889e-01],\n",
       "       [4.98000000e+04, 8.35341365e-01],\n",
       "       [3.15000000e+04, 8.34920635e-01],\n",
       "       [1.18000000e+04, 4.57627119e-01],\n",
       "       [2.51000000e+04, 3.78486056e-01],\n",
       "       [9.70000000e+03, 3.81443299e-01],\n",
       "       [2.62000000e+04, 5.72519084e-01],\n",
       "       [1.48000000e+04, 4.52702703e-01],\n",
       "       [2.75000000e+04, 2.80000000e-01],\n",
       "       [2.15000000e+02, 4.23255814e-01],\n",
       "       [1.80000000e+03, 4.44444444e-01],\n",
       "       [1.44000000e+04, 3.61111111e-01],\n",
       "       [1.84000000e+04, 5.21739130e-01],\n",
       "       [9.90000000e+03, 3.93939394e-01],\n",
       "       [6.30000000e+03, 3.17460320e-02],\n",
       "       [6.30000000e+03, 3.49206349e-01],\n",
       "       [5.50000000e+03, 4.00000000e-01],\n",
       "       [7.40000000e+03, 3.64864865e-01],\n",
       "       [5.60000000e+03, 6.25000000e-01],\n",
       "       [5.00000000e+03, 4.40000000e-01],\n",
       "       [3.60000000e+03, 4.44444444e-01],\n",
       "       [3.00000000e+03, 5.00000000e-01],\n",
       "       [8.00000000e+02, 5.00000000e-01],\n",
       "       [7.00000000e+00, 5.71428571e-01],\n",
       "       [1.50000000e+03, 5.33333333e-01],\n",
       "       [1.50000000e+03, 7.33333333e-01],\n",
       "       [1.30000000e+03, 5.38461538e-01],\n",
       "       [4.00000000e+02, 7.50000000e-01],\n",
       "       [3.00000000e+02, 1.00000000e+00],\n",
       "       [1.00000000e+02, 1.00000000e+00]])"
      ]
     },
     "execution_count": 5,
     "metadata": {},
     "output_type": "execute_result"
    }
   ],
   "source": [
    "X =crop_data.iloc[:,[5,7]].values\n",
    "Y=crop_data['CropLabel'].values\n",
    "X"
   ]
  },
  {
   "cell_type": "code",
   "execution_count": 6,
   "metadata": {},
   "outputs": [],
   "source": [
    "from sklearn.model_selection import train_test_split\n",
    "X_train, X_test, Y_train, Y_test = train_test_split(X, Y, test_size = 0.3, random_state=1)"
   ]
  },
  {
   "cell_type": "code",
   "execution_count": 7,
   "metadata": {},
   "outputs": [
    {
     "name": "stdout",
     "output_type": "stream",
     "text": [
      "[2.26121539 2.04993049 1.4679827  1.98254772 3.06653324 1.74709367\n",
      " 0.97370751 1.04348887 1.88268167 2.01672672 2.27727897 1.0272477\n",
      " 2.22086321 1.32140895 0.83901167 2.71239902 2.13287888 1.7030273\n",
      " 0.85723507 1.22560057 3.86236008 0.94598616 1.51985035 0.98640047\n",
      " 1.46097167 1.9868965  1.70233252 2.64339685 2.19501655 1.66962089\n",
      " 3.34511452 2.71238484 3.0982839  2.35448776 1.04285074 1.16689703\n",
      " 1.96652354 3.50611409 2.1123041  2.39860274 1.78481705 1.42819656\n",
      " 2.38461004 1.2047439  0.90225649 2.33060099 1.39724225 1.16753517\n",
      " 1.78481705 3.3411992  2.7160729  2.80633173 1.4226228  1.3209838\n",
      " 1.52650108 0.93653307 1.66894021 3.12489476 2.17068109 0.01884509\n",
      " 1.32101188 1.16664178 1.78481705 1.19146592 1.70501984 1.90736364]\n"
     ]
    }
   ],
   "source": [
    "X_train = X_train.reshape(-1,2)\n",
    "reg = LinearRegression()\n",
    "#fitting\n",
    "reg = reg.fit(X_train,Y_train)\n",
    "# Y prediction\n",
    "y_pred = reg.predict(X_train)\n",
    "y_pred.shape\n",
    "print(y_pred)"
   ]
  },
  {
   "cell_type": "code",
   "execution_count": 8,
   "metadata": {},
   "outputs": [
    {
     "data": {
      "text/plain": [
       "array([1.70274786, 0.95182491, 3.19779336, 2.06251789, 1.33049017,\n",
       "       3.83636052, 1.24562274, 2.33309045, 1.47345153, 1.9927273 ,\n",
       "       2.34384259, 1.61422814, 0.99958855, 1.05732228, 1.41636444,\n",
       "       1.98667713, 0.15935203, 1.77839851, 1.24562274, 1.18803075,\n",
       "       2.05979428, 0.56502267, 2.77529926, 1.35287418, 2.84464632,\n",
       "       1.28586974, 1.12130759, 2.2050576 , 0.87407449])"
      ]
     },
     "execution_count": 8,
     "metadata": {},
     "output_type": "execute_result"
    }
   ],
   "source": [
    "# model evaluation for testing set\n",
    "# model evaluation for training set\n",
    "\n",
    "X_test = X_test.reshape(-1,2)\n",
    "\n",
    "#creating model\n",
    "reg = LinearRegression()\n",
    "#fitting training data\n",
    "reg = reg.fit(X_test,Y_test)\n",
    "# Y prediction\n",
    "y_pred = reg.predict(X_test)\n",
    "y_pred"
   ]
  },
  {
   "cell_type": "code",
   "execution_count": 9,
   "metadata": {},
   "outputs": [
    {
     "name": "stdout",
     "output_type": "stream",
     "text": [
      "(29,)\n",
      "(66,)\n",
      "0.85460066654909\n"
     ]
    }
   ],
   "source": [
    "print(y_pred.shape)\n",
    "print(Y_train.shape)\n",
    "y_pred=y_pred.reshape(-1,1)\n",
    "Y_train=Y_train.reshape(-1,1)\n",
    "r2_score = reg.score(X_train, Y_train)\n",
    "print(r2_score)"
   ]
  },
  {
   "cell_type": "code",
   "execution_count": 10,
   "metadata": {},
   "outputs": [
    {
     "name": "stdout",
     "output_type": "stream",
     "text": [
      "0.8987526415609037\n"
     ]
    }
   ],
   "source": [
    "# R2 score (for testing set)\n",
    "r2_score = reg.score(X_test, Y_test)\n",
    "print(r2_score)"
   ]
  },
  {
   "cell_type": "code",
   "execution_count": null,
   "metadata": {},
   "outputs": [],
   "source": []
  }
 ],
 "metadata": {
  "kernelspec": {
   "display_name": "Python 3",
   "language": "python",
   "name": "python3"
  },
  "language_info": {
   "codemirror_mode": {
    "name": "ipython",
    "version": 3
   },
   "file_extension": ".py",
   "mimetype": "text/x-python",
   "name": "python",
   "nbconvert_exporter": "python",
   "pygments_lexer": "ipython3",
   "version": "3.7.1"
  }
 },
 "nbformat": 4,
 "nbformat_minor": 2
}
